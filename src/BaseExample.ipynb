{
 "cells": [
  {
   "cell_type": "code",
   "execution_count": 6,
   "id": "c283dcc2-586d-4763-a49c-c401c772b3b2",
   "metadata": {
    "tags": []
   },
   "outputs": [],
   "source": [
    "from ServiceNowData import ServiceNowHTTPXClient"
   ]
  },
  {
   "cell_type": "code",
   "execution_count": 7,
   "id": "f0a8ef17-763e-4619-939f-f18ce027b8af",
   "metadata": {
    "tags": []
   },
   "outputs": [],
   "source": [
    "client = ServiceNowHTTPXClient()"
   ]
  },
  {
   "cell_type": "code",
   "execution_count": 8,
   "id": "316cf3e2-8f1e-4308-86e6-68b53ec29676",
   "metadata": {
    "tags": []
   },
   "outputs": [
    {
     "name": "stderr",
     "output_type": "stream",
     "text": [
      "Request: GET https://dev85509.service-now.com/api/now/table/incident?sysparm_query=ORDERBYDESCopened_at&sysparm_limit=1\n",
      "Response: 200 GET https://dev85509.service-now.com/api/now/table/incident?sysparm_query=ORDERBYDESCopened_at&sysparm_limit=1\n"
     ]
    }
   ],
   "source": [
    "response = client.healthCheck()"
   ]
  },
  {
   "cell_type": "code",
   "execution_count": 9,
   "id": "ce9e4deb-cf6e-41bf-a9c7-53a5783ee1f2",
   "metadata": {
    "tags": []
   },
   "outputs": [],
   "source": [
    "response"
   ]
  },
  {
   "cell_type": "code",
   "execution_count": null,
   "id": "85a6a1d2-cd0b-4ac5-b4ab-9df59c22162e",
   "metadata": {},
   "outputs": [],
   "source": []
  }
 ],
 "metadata": {
  "kernelspec": {
   "display_name": "Python 3 (ipykernel)",
   "language": "python",
   "name": "python3"
  },
  "language_info": {
   "codemirror_mode": {
    "name": "ipython",
    "version": 3
   },
   "file_extension": ".py",
   "mimetype": "text/x-python",
   "name": "python",
   "nbconvert_exporter": "python",
   "pygments_lexer": "ipython3",
   "version": "3.10.9"
  }
 },
 "nbformat": 4,
 "nbformat_minor": 5
}
