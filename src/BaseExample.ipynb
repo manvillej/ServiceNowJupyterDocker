{
 "cells": [
  {
   "cell_type": "code",
   "execution_count": 1,
   "id": "c283dcc2-586d-4763-a49c-c401c772b3b2",
   "metadata": {
    "tags": []
   },
   "outputs": [],
   "source": [
    "from ServiceNowData import ServiceNowHTTPXClient\n",
    "\n",
    "import pandas as pd\n",
    "import matplotlib.pyplot as plt"
   ]
  },
  {
   "cell_type": "code",
   "execution_count": 2,
   "id": "f0a8ef17-763e-4619-939f-f18ce027b8af",
   "metadata": {
    "tags": []
   },
   "outputs": [
    {
     "name": "stderr",
     "output_type": "stream",
     "text": [
      "Request: GET https://dev85509.service-now.com/api/now/table/incident?sysparm_query=ORDERBYDESCopened_at&sysparm_limit=1\n",
      "Response: 200 GET https://dev85509.service-now.com/api/now/table/incident?sysparm_query=ORDERBYDESCopened_at&sysparm_limit=1\n"
     ]
    },
    {
     "data": {
      "text/plain": [
       "<Response [200 OK]>"
      ]
     },
     "execution_count": 2,
     "metadata": {},
     "output_type": "execute_result"
    }
   ],
   "source": [
    "client = ServiceNowHTTPXClient()\n",
    "response = client.healthCheck()\n",
    "response"
   ]
  },
  {
   "cell_type": "code",
   "execution_count": 3,
   "id": "4adc1ac5-f037-4bb9-8251-e1e4422bd772",
   "metadata": {
    "tags": []
   },
   "outputs": [
    {
     "name": "stderr",
     "output_type": "stream",
     "text": [
      "Request: GET https://dev85509.service-now.com/api/now/table/incident?sysparm_query=&sysparm_display_value=true&sysparm_exclude_reference_link=true&sysparm_fields=number%2Cresolved_by%2Cshort_description%2Cdescription%2Cpriority%2Cimpact%2Curgency%2Cclosed_by%2Cclose_notes%2Cstate%2Ccategory\n",
      "Response: 200 GET https://dev85509.service-now.com/api/now/table/incident?sysparm_query=&sysparm_display_value=true&sysparm_exclude_reference_link=true&sysparm_fields=number%2Cresolved_by%2Cshort_description%2Cdescription%2Cpriority%2Cimpact%2Curgency%2Cclosed_by%2Cclose_notes%2Cstate%2Ccategory\n"
     ]
    },
    {
     "data": {
      "text/html": [
       "<div>\n",
       "<style scoped>\n",
       "    .dataframe tbody tr th:only-of-type {\n",
       "        vertical-align: middle;\n",
       "    }\n",
       "\n",
       "    .dataframe tbody tr th {\n",
       "        vertical-align: top;\n",
       "    }\n",
       "\n",
       "    .dataframe thead th {\n",
       "        text-align: right;\n",
       "    }\n",
       "</style>\n",
       "<table border=\"1\" class=\"dataframe\">\n",
       "  <thead>\n",
       "    <tr style=\"text-align: right;\">\n",
       "      <th></th>\n",
       "      <th>number</th>\n",
       "      <th>short_description</th>\n",
       "      <th>resolved_by</th>\n",
       "      <th>urgency</th>\n",
       "      <th>impact</th>\n",
       "      <th>description</th>\n",
       "      <th>state</th>\n",
       "      <th>priority</th>\n",
       "      <th>category</th>\n",
       "      <th>close_notes</th>\n",
       "      <th>closed_by</th>\n",
       "    </tr>\n",
       "  </thead>\n",
       "  <tbody>\n",
       "    <tr>\n",
       "      <th>0</th>\n",
       "      <td>INC0000060</td>\n",
       "      <td>Unable to connect to email</td>\n",
       "      <td>David Loo</td>\n",
       "      <td>2 - Medium</td>\n",
       "      <td>2 - Medium</td>\n",
       "      <td>I am unable to connect to the email server. It...</td>\n",
       "      <td>Closed</td>\n",
       "      <td>3 - Moderate</td>\n",
       "      <td>Inquiry / Help</td>\n",
       "      <td>This incident is resolved.</td>\n",
       "      <td>Joe Employee</td>\n",
       "    </tr>\n",
       "    <tr>\n",
       "      <th>1</th>\n",
       "      <td>INC0009002</td>\n",
       "      <td>My computer is not detecting the headphone device</td>\n",
       "      <td>System Administrator</td>\n",
       "      <td>2 - Medium</td>\n",
       "      <td>2 - Medium</td>\n",
       "      <td>My computer is not detecting the headphone dev...</td>\n",
       "      <td>Closed</td>\n",
       "      <td>3 - Moderate</td>\n",
       "      <td>Hardware</td>\n",
       "      <td>This is not an issue with the USB port. Replac...</td>\n",
       "      <td>System Administrator</td>\n",
       "    </tr>\n",
       "    <tr>\n",
       "      <th>2</th>\n",
       "      <td>INC0000009</td>\n",
       "      <td>Reset my password</td>\n",
       "      <td>System Administrator</td>\n",
       "      <td>1 - High</td>\n",
       "      <td>1 - High</td>\n",
       "      <td>I can't remember my password and need to log i...</td>\n",
       "      <td>Closed</td>\n",
       "      <td>1 - Critical</td>\n",
       "      <td>Inquiry / Help</td>\n",
       "      <td>Closed before close notes were made mandatory\\...</td>\n",
       "      <td>Don Goodliffe</td>\n",
       "    </tr>\n",
       "    <tr>\n",
       "      <th>3</th>\n",
       "      <td>INC0000010</td>\n",
       "      <td>Need Oracle 10GR2 installed</td>\n",
       "      <td>System Administrator</td>\n",
       "      <td>3 - Low</td>\n",
       "      <td>2 - Medium</td>\n",
       "      <td>Currently running 10GR1 and need to upgrade to...</td>\n",
       "      <td>Closed</td>\n",
       "      <td>4 - Low</td>\n",
       "      <td>Database</td>\n",
       "      <td>Closed before close notes were made mandatory\\...</td>\n",
       "      <td>Don Goodliffe</td>\n",
       "    </tr>\n",
       "    <tr>\n",
       "      <th>4</th>\n",
       "      <td>INC0000011</td>\n",
       "      <td>Need new Blackberry set up</td>\n",
       "      <td>System Administrator</td>\n",
       "      <td>2 - Medium</td>\n",
       "      <td>2 - Medium</td>\n",
       "      <td>I'm replacing my old phone with a Blackberry a...</td>\n",
       "      <td>Closed</td>\n",
       "      <td>3 - Moderate</td>\n",
       "      <td>Inquiry / Help</td>\n",
       "      <td>Closed before close notes were made mandatory\\...</td>\n",
       "      <td>Don Goodliffe</td>\n",
       "    </tr>\n",
       "  </tbody>\n",
       "</table>\n",
       "</div>"
      ],
      "text/plain": [
       "       number                                  short_description  \\\n",
       "0  INC0000060                         Unable to connect to email   \n",
       "1  INC0009002  My computer is not detecting the headphone device   \n",
       "2  INC0000009                                  Reset my password   \n",
       "3  INC0000010                        Need Oracle 10GR2 installed   \n",
       "4  INC0000011                         Need new Blackberry set up   \n",
       "\n",
       "            resolved_by     urgency      impact  \\\n",
       "0             David Loo  2 - Medium  2 - Medium   \n",
       "1  System Administrator  2 - Medium  2 - Medium   \n",
       "2  System Administrator    1 - High    1 - High   \n",
       "3  System Administrator     3 - Low  2 - Medium   \n",
       "4  System Administrator  2 - Medium  2 - Medium   \n",
       "\n",
       "                                         description   state      priority  \\\n",
       "0  I am unable to connect to the email server. It...  Closed  3 - Moderate   \n",
       "1  My computer is not detecting the headphone dev...  Closed  3 - Moderate   \n",
       "2  I can't remember my password and need to log i...  Closed  1 - Critical   \n",
       "3  Currently running 10GR1 and need to upgrade to...  Closed       4 - Low   \n",
       "4  I'm replacing my old phone with a Blackberry a...  Closed  3 - Moderate   \n",
       "\n",
       "         category                                        close_notes  \\\n",
       "0  Inquiry / Help                         This incident is resolved.   \n",
       "1        Hardware  This is not an issue with the USB port. Replac...   \n",
       "2  Inquiry / Help  Closed before close notes were made mandatory\\...   \n",
       "3        Database  Closed before close notes were made mandatory\\...   \n",
       "4  Inquiry / Help  Closed before close notes were made mandatory\\...   \n",
       "\n",
       "              closed_by  \n",
       "0          Joe Employee  \n",
       "1  System Administrator  \n",
       "2         Don Goodliffe  \n",
       "3         Don Goodliffe  \n",
       "4         Don Goodliffe  "
      ]
     },
     "execution_count": 3,
     "metadata": {},
     "output_type": "execute_result"
    }
   ],
   "source": [
    "response = client.getData('incident','', {\n",
    "    'sysparm_display_value':True,\n",
    "    'sysparm_exclude_reference_link':True,\n",
    "    'sysparm_fields':'number,resolved_by,short_description,description,priority,impact,urgency,closed_by,close_notes,state,category'\n",
    "    })\n",
    "\n",
    "data = response.json()['result']\n",
    "df = pd.DataFrame(data)\n",
    "df.head(5)"
   ]
  },
  {
   "cell_type": "code",
   "execution_count": 4,
   "id": "e6878d7a-2ded-4101-813e-bdaca49149fe",
   "metadata": {
    "tags": []
   },
   "outputs": [
    {
     "data": {
      "text/plain": [
       "priority\n",
       "1 - Critical    27\n",
       "2 - High         4\n",
       "3 - Moderate    12\n",
       "4 - Low          5\n",
       "5 - Planning    19\n",
       "Name: priority, dtype: int64"
      ]
     },
     "execution_count": 4,
     "metadata": {},
     "output_type": "execute_result"
    }
   ],
   "source": [
    "priorityCountDF = df.groupby(['priority'])['priority'].count()\n",
    "priorityCountDF.head()"
   ]
  },
  {
   "cell_type": "code",
   "execution_count": 12,
   "id": "7e43d4dd-9de3-4d26-83a8-8c3f7fecb419",
   "metadata": {
    "tags": []
   },
   "outputs": [
    {
     "data": {
      "text/plain": [
       "<Axes: ylabel='priority'>"
      ]
     },
     "execution_count": 12,
     "metadata": {},
     "output_type": "execute_result"
    },
    {
     "data": {
      "image/png": "[encoded data removed]",
      "text/plain": [
       "<Figure size 640x480 with 1 Axes>"
      ]
     },
     "metadata": {},
     "output_type": "display_data"
    }
   ],
   "source": [
    "plt.figure()\n",
    "# https://pandas.pydata.org/pandas-docs/stable/user_guide/visualization.html\n",
    "priorityCountDF.plot(kind=\"pie\")"
   ]
  },
  {
   "cell_type": "code",
   "execution_count": null,
   "id": "5e7e9eba-315a-4ddd-80fc-3c87382ec992",
   "metadata": {},
   "outputs": [],
   "source": []
  }
 ],
 "metadata": {
  "kernelspec": {
   "display_name": "Python 3 (ipykernel)",
   "language": "python",
   "name": "python3"
  },
  "language_info": {
   "codemirror_mode": {
    "name": "ipython",
    "version": 3
   },
   "file_extension": ".py",
   "mimetype": "text/x-python",
   "name": "python",
   "nbconvert_exporter": "python",
   "pygments_lexer": "ipython3",
   "version": "3.10.9"
  }
 },
 "nbformat": 4,
 "nbformat_minor": 5
}
